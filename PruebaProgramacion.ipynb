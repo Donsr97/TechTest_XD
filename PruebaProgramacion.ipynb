{
  "nbformat": 4,
  "nbformat_minor": 0,
  "metadata": {
    "colab": {
      "name": "PruebaProgramacion.ipynb",
      "provenance": [],
      "collapsed_sections": []
    },
    "kernelspec": {
      "name": "python3",
      "display_name": "Python 3"
    },
    "language_info": {
      "name": "python"
    }
  },
  "cells": [
    {
      "cell_type": "markdown",
      "source": [
        "Donaldo Salazar"
      ],
      "metadata": {
        "id": "7m86l7HTwVP4"
      }
    },
    {
      "cell_type": "code",
      "execution_count": 1,
      "metadata": {
        "id": "4C5QRPeDk24B"
      },
      "outputs": [],
      "source": [
        "import urllib.request, json,io,gzip, pandas as pd\n",
        "from datetime import datetime"
      ]
    },
    {
      "cell_type": "code",
      "source": [
        "def testProg(link):\n",
        "  with urllib.request.urlopen(link) as url:\n",
        "    data = url.read()\n",
        "    buff = io.BytesIO(data)\n",
        "    f = gzip.GzipFile(fileobj=buff)\n",
        "    res = json.loads(f.read().decode('utf-8'))\n",
        "    df = pd.json_normalize(res[\"items\"], max_level=1)\n",
        "    tContestadas = df[df[\"is_answered\"] == True].shape[0]\n",
        "    print(\"Número de respuestas contestadas: \", tContestadas)\n",
        "    fContestadas = df[df[\"is_answered\"] == False].shape[0]\n",
        "    print(\"Número de respuestas no contestadas: \", fContestadas)\n",
        "    menorVistas = df[df[\"view_count\"] == df[\"view_count\"].min()]\n",
        "    print(\"ID de la respuesta con menor vistas: \", menorVistas['question_id'].iloc[0], \" Número de vistas: \", menorVistas['view_count'].iloc[0])\n",
        "    masNueva= df.sort_values(by=\"creation_date\").tail(1)\n",
        "    print(\"ID de la respuesta más nueva: \", masNueva['question_id'].iloc[0], \" Fecha: \", datetime.fromtimestamp(masNueva['creation_date'].iloc[0]))\n",
        "    masVieja = df.sort_values(by=\"creation_date\").head(1)\n",
        "    print(\"ID de la respuesta más vieja: \", masVieja['question_id'].iloc[0], \" Fecha: \", datetime.fromtimestamp(masVieja['creation_date'].iloc[0]))\n",
        "    mayorReputacion = df[df[\"owner.reputation\"] == df[\"owner.reputation\"].max()]\n",
        "    print(\"ID de la respuesta con mayor reputación: \", mayorReputacion['owner.reputation'].iloc[0], \" Reputación: \", mayorReputacion['owner.reputation'].iloc[0])"
      ],
      "metadata": {
        "id": "nUByAO3BMzr6"
      },
      "execution_count": 2,
      "outputs": []
    },
    {
      "cell_type": "code",
      "source": [
        "testProg(\"https://api.stackexchange.com/2.2/search?order=desc&sort=activity&intitle=perl&site=stackoverflow\")"
      ],
      "metadata": {
        "colab": {
          "base_uri": "https://localhost:8080/"
        },
        "id": "PKSZYGKqNWZl",
        "outputId": "9d5447bb-ae7f-46ac-d599-bd91ba76c495"
      },
      "execution_count": 3,
      "outputs": [
        {
          "output_type": "stream",
          "name": "stdout",
          "text": [
            "Número de respuestas contestadas:  21\n",
            "Número de respuestas no contestadas:  9\n",
            "ID de la respuesta con menor vistas:  72683874  Número de vistas:  19\n",
            "ID de la respuesta más nueva:  72690870  Fecha:  2022-06-20 17:28:52\n",
            "ID de la respuesta más vieja:  1970660  Fecha:  2009-12-28 17:52:13\n",
            "ID de la respuesta con mayor reputación:  18611  Reputación:  18611\n"
          ]
        }
      ]
    }
  ]
}