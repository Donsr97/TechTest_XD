{
  "nbformat": 4,
  "nbformat_minor": 0,
  "metadata": {
    "colab": {
      "name": "PruebaProgramacion.ipynb",
      "provenance": [],
      "collapsed_sections": []
    },
    "kernelspec": {
      "name": "python3",
      "display_name": "Python 3"
    },
    "language_info": {
      "name": "python"
    }
  },
  "cells": [
    {
      "cell_type": "markdown",
      "source": [
        "Donaldo Salazar"
      ],
      "metadata": {
        "id": "7m86l7HTwVP4"
      }
    },
    {
      "cell_type": "code",
      "execution_count": 16,
      "metadata": {
        "id": "4C5QRPeDk24B"
      },
      "outputs": [],
      "source": [
        "import urllib.request, json,io,gzip, pandas as pd\n",
        "from datetime import datetime"
      ]
    },
    {
      "cell_type": "code",
      "source": [
        "def test_Prog(link):\n",
        "  with urllib.request.urlopen(link) as url:\n",
        "    data = url.read()\n",
        "    buff = io.BytesIO(data)\n",
        "    f = gzip.GzipFile(fileobj=buff)\n",
        "    res = json.loads(f.read().decode('utf-8'))\n",
        "    df = pd.json_normalize(res[\"items\"], max_level=1)\n",
        "  assert list(df.columns.values) == ['tags', 'is_answered', 'view_count', 'answer_count', 'score',\n",
        "                                       'last_activity_date', 'creation_date', 'question_id', 'content_license',\n",
        "                                       'link', 'title', 'owner.reputation', 'owner.user_id', 'owner.user_type',\n",
        "                                       'owner.accept_rate', 'owner.profile_image', 'owner.display_name', 'owner.link',\n",
        "                                       'last_edit_date', 'accepted_answer_id', 'closed_date', 'closed_reason'] \n",
        "  tContestadas = df[df[\"is_answered\"] == True].shape[0]\n",
        "  print(\"Número de respuestas contestadas: \", tContestadas)\n",
        "  fContestadas = df[df[\"is_answered\"] == False].shape[0]\n",
        "  print(\"Número de respuestas no contestadas: \", fContestadas)\n",
        "  menorVistas = df[df[\"view_count\"] == df[\"view_count\"].min()]\n",
        "  print(\"ID de la respuesta con menor vistas: \", menorVistas['question_id'].iloc[0], \" Número de vistas: \", menorVistas['view_count'].iloc[0])\n",
        "  masNueva= df.sort_values(by=\"creation_date\").tail(1)\n",
        "  print(\"ID de la respuesta más nueva: \", masNueva['question_id'].iloc[0], \" Fecha: \", datetime.fromtimestamp(masNueva['creation_date'].iloc[0]))\n",
        "  masVieja = df.sort_values(by=\"creation_date\").head(1)\n",
        "  print(\"ID de la respuesta más vieja: \", masVieja['question_id'].iloc[0], \" Fecha: \", datetime.fromtimestamp(masVieja['creation_date'].iloc[0]))\n",
        "  mayorReputacion = df[df[\"owner.reputation\"] == df[\"owner.reputation\"].max()]\n",
        "  print(\"ID de la respuesta con mayor reputación: \", mayorReputacion['owner.reputation'].iloc[0], \" Reputación: \", mayorReputacion['owner.reputation'].iloc[0])"
      ],
      "metadata": {
        "id": "nUByAO3BMzr6"
      },
      "execution_count": 15,
      "outputs": []
    },
    {
      "cell_type": "code",
      "source": [
        "test_Prog(\"https://api.stackexchange.com/2.2/search?order=desc&sort=activity&intitle=perl&site=stackoverflow\")"
      ],
      "metadata": {
        "colab": {
          "base_uri": "https://localhost:8080/"
        },
        "id": "PKSZYGKqNWZl",
        "outputId": "910746a7-4fe6-4f17-90ce-4b4386483bab"
      },
      "execution_count": 17,
      "outputs": [
        {
          "output_type": "stream",
          "name": "stdout",
          "text": [
            "Número de respuestas contestadas:  21\n",
            "Número de respuestas no contestadas:  9\n",
            "ID de la respuesta con menor vistas:  72683874  Número de vistas:  20\n",
            "ID de la respuesta más nueva:  72690870  Fecha:  2022-06-20 17:28:52\n",
            "ID de la respuesta más vieja:  1970660  Fecha:  2009-12-28 17:52:13\n",
            "ID de la respuesta con mayor reputación:  18611  Reputación:  18611\n"
          ]
        }
      ]
    }
  ]
}